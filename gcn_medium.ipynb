{
  "nbformat": 4,
  "nbformat_minor": 0,
  "metadata": {
    "colab": {
      "name": "gcn_medium.ipynb",
      "version": "0.3.2",
      "provenance": [],
      "include_colab_link": true
    },
    "kernelspec": {
      "name": "python3",
      "display_name": "Python 3"
    }
  },
  "cells": [
    {
      "cell_type": "markdown",
      "metadata": {
        "id": "view-in-github",
        "colab_type": "text"
      },
      "source": [
        "<a href=\"https://colab.research.google.com/github/sanzhbakh/data_mining/blob/master/gcn_medium.ipynb\" target=\"_parent\"><img src=\"https://colab.research.google.com/assets/colab-badge.svg\" alt=\"Open In Colab\"/></a>"
      ]
    },
    {
      "metadata": {
        "id": "YAQgHHr68lLy",
        "colab_type": "code",
        "colab": {}
      },
      "cell_type": "code",
      "source": [
        "import numpy as np\n",
        "from copy import deepcopy\n",
        "\n",
        "MAX_ROWS = 3\n",
        "MAX_COLS = 3\n",
        "MAX_DEPTH = 3\n",
        "MAX_AGENTS = 2\n",
        "\n"
      ],
      "execution_count": 0,
      "outputs": []
    },
    {
      "metadata": {
        "id": "bUD1I2rBoPvv",
        "colab_type": "code",
        "colab": {}
      },
      "cell_type": "code",
      "source": [
        "def check_symmetric(a, tol=1e-8):\n",
        "    return np.allclose(a, a.T, atol=tol)\n",
        "        "
      ],
      "execution_count": 0,
      "outputs": []
    },
    {
      "metadata": {
        "id": "QIOEOwD8WzL_",
        "colab_type": "code",
        "colab": {}
      },
      "cell_type": "code",
      "source": [
        "class Graph():\n",
        "    def __init__(self):\n",
        "        self.max_nodes = MAX_ROWS * MAX_COLS * MAX_DEPTH\n",
        "        self.max_agents = MAX_AGENTS\n",
        "        self.max_depth = MAX_DEPTH\n",
        "        self.depth_matrix = np.array([\n",
        "            [2, 3],\n",
        "            [0, 1]])\n",
        "        self.rows, self.cols = self.depth_matrix.shape\n",
        "        self.n_nodes = self.rows * self.cols * self.max_depth\n",
        "        \n",
        "        \n",
        "    def reformat_depth_matrix(self):\n",
        "        temp_matrix = np.zeros([self.rows * self.cols, self.max_depth])\n",
        "        temp_3d_matrix = np.zeros([self.rows, self.cols, self.max_depth])\n",
        "        \n",
        "        \n",
        "        for row in range(self.rows):\n",
        "            for col in range(self.cols):\n",
        "                depth = self.depth_matrix[row, col]\n",
        "                temp_3d_matrix[row, col, :depth] = 1\n",
        "       \n",
        "        self.soil_3d = np.copy(temp_3d_matrix)\n",
        "        \n",
        "        \n",
        "        idx = 0\n",
        "        for row in range(self.rows):\n",
        "            for col in range(self.cols):\n",
        "                depth = self.depth_matrix[row, col]\n",
        "                temp_matrix[idx, :depth].fill(1)\n",
        "                idx += 1\n",
        "#         temp_matrix = np.flip(temp_matrix, 1)\n",
        "        self.depth_matrix_binary_2D = np.copy(temp_matrix)\n",
        "        \n",
        "    def get_surface(self):\n",
        "        surface_cell_indices = []\n",
        "        \n",
        "        for i in range(self.depth_matrix_binary_2D.shape[0]):\n",
        "            if self.depth_matrix_binary_2D[i,0] == 1:\n",
        "                surface_cell_indices.append(i * self.max_depth)\n",
        "        \n",
        "        print('surface indices:', surface_cell_indices)\n",
        "            \n",
        "        \n",
        "        return surface_cell_indices\n",
        "    \n",
        "    \n",
        "    def construct_binary_t2t(self):\n",
        "        \n",
        "        surface = self.get_surface()\n",
        "        \n",
        "        self.binary_t2t = np.zeros([self.n_nodes, self.n_nodes])\n",
        "#         print('binary t2t shape: ', self.binary_t2t.shape)\n",
        "        \n",
        "        # connect surface nodes\n",
        "        for i in surface:\n",
        "            for j in surface:\n",
        "                self.binary_t2t[i, j] = 1\n",
        "                \n",
        "        # connect underground nodes to surface node\n",
        "        for r in range(self.rows * self.cols):\n",
        "            \n",
        "            if self.depth_matrix_binary_2D[r, 0] == 0: # if surface is zero -> continue\n",
        "                continue\n",
        "\n",
        "            for j in range(1, self.max_depth):                \n",
        "                print(r, j)\n",
        "                if self.depth_matrix_binary_2D[r, j] == 1:\n",
        "                    ug_node_index = r * self.max_depth + j\n",
        "                    surface_node_index = ug_node_index - j\n",
        "                    self.binary_t2t[ug_node_index, ug_node_index] = 1\n",
        "                    self.binary_t2t[ug_node_index, surface_node_index] = 1\n",
        "                    self.binary_t2t[surface_node_index, ug_node_index] = 1                   \n",
        "                \n",
        "       \n",
        "        \n",
        "#         print(self.binary_t2t)\n",
        "\n",
        "#         print(check_symmetric(self.binary_t2t))\n",
        "    \n",
        "    def _get_2d_coords(self, node_index):\n",
        "        row, col = node_index // self.max_depth, node_index % self.max_depth        \n",
        "        return row, col\n",
        "    \n",
        "    def construct_t2t(self):      \n",
        "        \n",
        "        r = np.arange(self.rows)\n",
        "        c = np.arange(self.cols)\n",
        "        depth = np.arange(self.max_depth)\n",
        "        rv, cv, dv = np.meshgrid(r, c, depth, sparse=False, indexing='ij')\n",
        "        \n",
        "        coords = np.transpose(np.vstack([rv.reshape([1, -1]), cv.reshape([1, -1]), dv.reshape([1, -1])]))\n",
        "        \n",
        "        self.t2t = np.zeros([self.n_nodes, self.n_nodes, 3])\n",
        "        \n",
        "        \n",
        "        for node_i in range(coords.shape[0]):\n",
        "            for node_j in range(coords.shape[0]):\n",
        "                self.t2t[node_i, node_j, :] = abs((coords[node_i] - coords[node_j]))\n",
        "                \n",
        "                \n",
        "        print('coords: ')\n",
        "        print(coords)\n",
        "        \n",
        "        print('t2t: ')\n",
        "        print(self.t2t[0, 8])\n",
        "                \n",
        "        # connect underground nodes to surface node\n",
        "#         for i in range(n_nodes):\n",
        "#             for j in range(n_nodes):\n",
        "#                 if i == 0 or j == 0:\n",
        "#                     continue\n",
        "                \n",
        "#                 self.t2t[i, j] = \n",
        "        \n",
        "#         print(self.binary_t2t)\n",
        "\n",
        "#         print(check_symmetric(self.binary_t2t))\n",
        "        \n",
        "        \n"
      ],
      "execution_count": 0,
      "outputs": []
    },
    {
      "metadata": {
        "id": "1YE5Oq_EZSYz",
        "colab_type": "code",
        "colab": {
          "base_uri": "https://localhost:8080/",
          "height": 527
        },
        "outputId": "086cd571-25fc-4bca-a03a-f52d4f787631"
      },
      "cell_type": "code",
      "source": [
        "graph = Graph()\n",
        "\n",
        "print('depth_matrix:')\n",
        "print(graph.depth_matrix)\n",
        "\n",
        "graph.reformat_depth_matrix()\n",
        "\n",
        "\n",
        "print('depth_matrix_binary_2D:')\n",
        "print(graph.depth_matrix_binary_2D)\n",
        "graph.construct_binary_t2t()\n",
        "graph.construct_t2t()"
      ],
      "execution_count": 75,
      "outputs": [
        {
          "output_type": "stream",
          "text": [
            "depth_matrix:\n",
            "[[2 3]\n",
            " [0 1]]\n",
            "depth_matrix_binary_2D:\n",
            "[[1. 1. 0.]\n",
            " [1. 1. 1.]\n",
            " [0. 0. 0.]\n",
            " [1. 0. 0.]]\n",
            "surface indices: [0, 3, 9]\n",
            "0 1\n",
            "0 2\n",
            "1 1\n",
            "1 2\n",
            "3 1\n",
            "3 2\n",
            "coords: \n",
            "[[0 0 0]\n",
            " [0 0 1]\n",
            " [0 0 2]\n",
            " [0 1 0]\n",
            " [0 1 1]\n",
            " [0 1 2]\n",
            " [1 0 0]\n",
            " [1 0 1]\n",
            " [1 0 2]\n",
            " [1 1 0]\n",
            " [1 1 1]\n",
            " [1 1 2]]\n",
            "t2t: \n",
            "[1. 1. 1. 1. 1. 1. 0. 0. 0. 0. 0. 0.]\n"
          ],
          "name": "stdout"
        }
      ]
    },
    {
      "metadata": {
        "id": "LTEgcO0tIyuW",
        "colab_type": "code",
        "colab": {
          "base_uri": "https://localhost:8080/",
          "height": 34
        },
        "outputId": "61023f47-e326-4690-a18e-a87dec43c11b"
      },
      "cell_type": "code",
      "source": [
        "graph.t2t[:, 1, 7]"
      ],
      "execution_count": 85,
      "outputs": [
        {
          "output_type": "execute_result",
          "data": {
            "text/plain": [
              "array([1., 0., 0.])"
            ]
          },
          "metadata": {
            "tags": []
          },
          "execution_count": 85
        }
      ]
    },
    {
      "metadata": {
        "id": "07ujlOiA8qli",
        "colab_type": "code",
        "colab": {
          "base_uri": "https://localhost:8080/",
          "height": 34
        },
        "outputId": "20154930-d3f7-40d2-d20f-49021b602eba"
      },
      "cell_type": "code",
      "source": [
        "\n",
        "\n",
        "binary_t2t = graph.depth_matrix_reformatted.reshape(-1)\n",
        "binary_t2t"
      ],
      "execution_count": 70,
      "outputs": [
        {
          "output_type": "execute_result",
          "data": {
            "text/plain": [
              "array([1., 1., 0., 1., 1., 1., 1., 0., 0., 1., 0., 0.])"
            ]
          },
          "metadata": {
            "tags": []
          },
          "execution_count": 70
        }
      ]
    },
    {
      "metadata": {
        "id": "GMliKNCX8q-w",
        "colab_type": "code",
        "colab": {
          "base_uri": "https://localhost:8080/",
          "height": 34
        },
        "outputId": "5f223f1f-12a3-484b-ca0c-2540ec54e4f5"
      },
      "cell_type": "code",
      "source": [
        "graph.depth_matrix_reformatted[:,-1]"
      ],
      "execution_count": 61,
      "outputs": [
        {
          "output_type": "execute_result",
          "data": {
            "text/plain": [
              "array([1., 1., 1., 0.])"
            ]
          },
          "metadata": {
            "tags": []
          },
          "execution_count": 61
        }
      ]
    },
    {
      "metadata": {
        "id": "Wmb94gTh8rjK",
        "colab_type": "code",
        "colab": {
          "base_uri": "https://localhost:8080/",
          "height": 85
        },
        "outputId": "6b9c4276-250c-4287-a1ac-059a42875538"
      },
      "cell_type": "code",
      "source": [
        "I = np.matrix(np.eye(A.shape[0]))\n",
        "I"
      ],
      "execution_count": 11,
      "outputs": [
        {
          "output_type": "execute_result",
          "data": {
            "text/plain": [
              "matrix([[1., 0., 0., 0.],\n",
              "        [0., 1., 0., 0.],\n",
              "        [0., 0., 1., 0.],\n",
              "        [0., 0., 0., 1.]])"
            ]
          },
          "metadata": {
            "tags": []
          },
          "execution_count": 11
        }
      ]
    },
    {
      "metadata": {
        "id": "16b40E31BLpy",
        "colab_type": "code",
        "colab": {
          "base_uri": "https://localhost:8080/",
          "height": 34
        },
        "outputId": "29dd0ddc-1820-44a8-dcbc-b3fa42bac87c"
      },
      "cell_type": "code",
      "source": [
        "7 // 3"
      ],
      "execution_count": 128,
      "outputs": [
        {
          "output_type": "execute_result",
          "data": {
            "text/plain": [
              "2"
            ]
          },
          "metadata": {
            "tags": []
          },
          "execution_count": 128
        }
      ]
    },
    {
      "metadata": {
        "id": "M0Ng1NGJBUZP",
        "colab_type": "code",
        "colab": {
          "base_uri": "https://localhost:8080/",
          "height": 85
        },
        "outputId": "fc00ce93-9029-48a5-958e-097c700b347b"
      },
      "cell_type": "code",
      "source": [
        "A_hat * X"
      ],
      "execution_count": 13,
      "outputs": [
        {
          "output_type": "execute_result",
          "data": {
            "text/plain": [
              "matrix([[ 1., -1.],\n",
              "        [ 6., -6.],\n",
              "        [ 3., -3.],\n",
              "        [ 5., -5.]])"
            ]
          },
          "metadata": {
            "tags": []
          },
          "execution_count": 13
        }
      ]
    },
    {
      "metadata": {
        "id": "B5u8WWL2BV5G",
        "colab_type": "code",
        "colab": {
          "base_uri": "https://localhost:8080/",
          "height": 85
        },
        "outputId": "d614d2b8-7101-47cd-bf50-a80babdf2e12"
      },
      "cell_type": "code",
      "source": [
        "# Normalizing feature representations\n",
        "D = np.array(np.sum(A, axis=0))[0]\n",
        "D = np.matrix(np.diag(D))\n",
        "D_hat = np.array(np.sum(A_hat, axis=0))[0]\n",
        "D_hat = np.matrix(np.diag(D_hat))\n",
        "D_hat"
      ],
      "execution_count": 19,
      "outputs": [
        {
          "output_type": "execute_result",
          "data": {
            "text/plain": [
              "matrix([[2., 0., 0., 0.],\n",
              "        [0., 3., 0., 0.],\n",
              "        [0., 0., 3., 0.],\n",
              "        [0., 0., 0., 2.]])"
            ]
          },
          "metadata": {
            "tags": []
          },
          "execution_count": 19
        }
      ]
    },
    {
      "metadata": {
        "id": "Nf5STxtOBgER",
        "colab_type": "code",
        "colab": {
          "base_uri": "https://localhost:8080/",
          "height": 102
        },
        "outputId": "da8ef0ea-5e8b-470c-db6d-f0a38df73d26"
      },
      "cell_type": "code",
      "source": [
        "W = np.matrix([\n",
        "    [1, -1],\n",
        "    [-1, 1]\n",
        "])\n",
        "\n",
        "print(\"notice that rows are summing up to 1. i.e. normalized\")\n",
        "D_hat**-1 * A_hat * X\n"
      ],
      "execution_count": 24,
      "outputs": [
        {
          "output_type": "stream",
          "text": [
            "notice that rows are summing up to 1. i.e. normalized\n"
          ],
          "name": "stdout"
        },
        {
          "output_type": "execute_result",
          "data": {
            "text/plain": [
              "matrix([[ 0.5, -0.5],\n",
              "        [ 2. , -2. ],\n",
              "        [ 1. , -1. ],\n",
              "        [ 2.5, -2.5]])"
            ]
          },
          "metadata": {
            "tags": []
          },
          "execution_count": 24
        }
      ]
    },
    {
      "metadata": {
        "id": "8cUjcLvXCP-n",
        "colab_type": "code",
        "colab": {
          "base_uri": "https://localhost:8080/",
          "height": 187
        },
        "outputId": "f0cbd813-d0af-4a71-fab0-6f007f4de543"
      },
      "cell_type": "code",
      "source": [
        "# Adding activation function\n",
        "# We choose to preserve the dimensionality of the feature representations and apply the ReLU activation function.\n",
        "f = D_hat**-1 * A_hat * X * W\n",
        "print(\"f: \\n\", f)\n",
        "\n",
        "f[f < 0] = 0\n",
        "print(\"relu(f): \\n\", f)"
      ],
      "execution_count": 41,
      "outputs": [
        {
          "output_type": "stream",
          "text": [
            "f: \n",
            " [[ 1. -1.]\n",
            " [ 4. -4.]\n",
            " [ 2. -2.]\n",
            " [ 5. -5.]]\n",
            "relu(f): \n",
            " [[1. 0.]\n",
            " [4. 0.]\n",
            " [2. 0.]\n",
            " [5. 0.]]\n"
          ],
          "name": "stdout"
        }
      ]
    },
    {
      "metadata": {
        "id": "6nYuMApADAQC",
        "colab_type": "code",
        "colab": {}
      },
      "cell_type": "code",
      "source": [
        "def relu(x):\n",
        "    x[x<0] = 0\n",
        "    return x"
      ],
      "execution_count": 0,
      "outputs": []
    },
    {
      "metadata": {
        "id": "M8TO5cDfD4IL",
        "colab_type": "code",
        "colab": {
          "base_uri": "https://localhost:8080/",
          "height": 68
        },
        "outputId": "2dfc8f35-4b90-4f7e-9138-33000c2ce63a"
      },
      "cell_type": "code",
      "source": [
        "\n",
        "z"
      ],
      "execution_count": 34,
      "outputs": [
        {
          "output_type": "execute_result",
          "data": {
            "text/plain": [
              "array([[-0.39335723, -0.86341238,  0.65038501],\n",
              "       [-0.62958243,  0.68392315,  0.1753025 ],\n",
              "       [ 0.75673649, -0.50031745,  0.9527737 ]])"
            ]
          },
          "metadata": {
            "tags": []
          },
          "execution_count": 34
        }
      ]
    },
    {
      "metadata": {
        "id": "Qq3rvBZsD8U2",
        "colab_type": "code",
        "colab": {
          "base_uri": "https://localhost:8080/",
          "height": 68
        },
        "outputId": "134dbd84-0404-4e9c-e069-64666b7d8544"
      },
      "cell_type": "code",
      "source": [
        "relu(z)"
      ],
      "execution_count": 33,
      "outputs": [
        {
          "output_type": "execute_result",
          "data": {
            "text/plain": [
              "array([[0.        , 0.        , 0.        ],\n",
              "       [0.        , 0.24525935, 0.08134589],\n",
              "       [0.28572315, 0.71689504, 0.30318565]])"
            ]
          },
          "metadata": {
            "tags": []
          },
          "execution_count": 33
        }
      ]
    },
    {
      "metadata": {
        "id": "CNz1tMsDD83m",
        "colab_type": "code",
        "colab": {
          "base_uri": "https://localhost:8080/",
          "height": 119
        },
        "outputId": "049a4979-0787-4f7d-85f8-cd8342d76d2d"
      },
      "cell_type": "code",
      "source": [
        "z = np.random.uniform(-1, 1, (3,3))\n",
        "print(z)\n",
        "z[z < 0] = 0.0\n",
        "z"
      ],
      "execution_count": 39,
      "outputs": [
        {
          "output_type": "stream",
          "text": [
            "[[-0.74361135 -0.10117558  0.35550908]\n",
            " [-0.43625849 -0.52675523  0.48083821]\n",
            " [-0.04531706  0.576386    0.97600195]]\n"
          ],
          "name": "stdout"
        },
        {
          "output_type": "execute_result",
          "data": {
            "text/plain": [
              "array([[0.        , 0.        , 0.35550908],\n",
              "       [0.        , 0.        , 0.48083821],\n",
              "       [0.        , 0.576386  , 0.97600195]])"
            ]
          },
          "metadata": {
            "tags": []
          },
          "execution_count": 39
        }
      ]
    },
    {
      "metadata": {
        "id": "XhiWLwXREKWg",
        "colab_type": "code",
        "colab": {
          "base_uri": "https://localhost:8080/",
          "height": 51
        },
        "outputId": "c2d62635-0d34-4eee-86ce-f66c9e7e92a8"
      },
      "cell_type": "code",
      "source": [
        "for x in range(1, 3):\n",
        "    print(x)"
      ],
      "execution_count": 112,
      "outputs": [
        {
          "output_type": "stream",
          "text": [
            "1\n",
            "2\n"
          ],
          "name": "stdout"
        }
      ]
    },
    {
      "metadata": {
        "id": "9_-IeEOGnrd-",
        "colab_type": "code",
        "colab": {}
      },
      "cell_type": "code",
      "source": [
        "r = np.arange(3)\n",
        "c = np.arange(3)\n",
        "depth = np.arange(3)\n",
        "rv, cv, dv = np.meshgrid(r, c, depth, sparse=False, indexing='ij')"
      ],
      "execution_count": 0,
      "outputs": []
    },
    {
      "metadata": {
        "id": "D4lLZLKixp4U",
        "colab_type": "code",
        "colab": {
          "base_uri": "https://localhost:8080/",
          "height": 51
        },
        "outputId": "de074f4f-016f-4f2f-a35b-e0bddcd6ffe5"
      },
      "cell_type": "code",
      "source": [
        "rv.reshape([1, -1])"
      ],
      "execution_count": 51,
      "outputs": [
        {
          "output_type": "execute_result",
          "data": {
            "text/plain": [
              "array([[0, 0, 0, 0, 0, 0, 0, 0, 0, 1, 1, 1, 1, 1, 1, 1, 1, 1, 2, 2, 2, 2,\n",
              "        2, 2, 2, 2, 2]])"
            ]
          },
          "metadata": {
            "tags": []
          },
          "execution_count": 51
        }
      ]
    },
    {
      "metadata": {
        "id": "jp9ei3DZDiwL",
        "colab_type": "code",
        "colab": {
          "base_uri": "https://localhost:8080/",
          "height": 51
        },
        "outputId": "563f92f5-4022-4a67-d2ed-23adab87b9fa"
      },
      "cell_type": "code",
      "source": [
        "cv.reshape(-1)"
      ],
      "execution_count": 48,
      "outputs": [
        {
          "output_type": "execute_result",
          "data": {
            "text/plain": [
              "array([0, 0, 0, 1, 1, 1, 2, 2, 2, 0, 0, 0, 1, 1, 1, 2, 2, 2, 0, 0, 0, 1,\n",
              "       1, 1, 2, 2, 2])"
            ]
          },
          "metadata": {
            "tags": []
          },
          "execution_count": 48
        }
      ]
    },
    {
      "metadata": {
        "id": "_gznA7D6FYnW",
        "colab_type": "code",
        "colab": {
          "base_uri": "https://localhost:8080/",
          "height": 51
        },
        "outputId": "c5023239-1475-4bda-e29d-f554df80049a"
      },
      "cell_type": "code",
      "source": [
        "dv.reshape(-1)"
      ],
      "execution_count": 49,
      "outputs": [
        {
          "output_type": "execute_result",
          "data": {
            "text/plain": [
              "array([0, 1, 2, 0, 1, 2, 0, 1, 2, 0, 1, 2, 0, 1, 2, 0, 1, 2, 0, 1, 2, 0,\n",
              "       1, 2, 0, 1, 2])"
            ]
          },
          "metadata": {
            "tags": []
          },
          "execution_count": 49
        }
      ]
    },
    {
      "metadata": {
        "id": "N4q35B2eFfTk",
        "colab_type": "code",
        "colab": {
          "base_uri": "https://localhost:8080/",
          "height": 34
        },
        "outputId": "90eb4b9f-5791-4dcc-a9ce-de3233fe99fd"
      },
      "cell_type": "code",
      "source": [
        "coords = np.transpose(np.vstack([rv.reshape([1, -1]), cv.reshape([1, -1]), dv.reshape([1, -1])]))\n",
        "abs(coords[3] - coords[5])"
      ],
      "execution_count": 68,
      "outputs": [
        {
          "output_type": "execute_result",
          "data": {
            "text/plain": [
              "array([0, 0, 2])"
            ]
          },
          "metadata": {
            "tags": []
          },
          "execution_count": 68
        }
      ]
    },
    {
      "metadata": {
        "id": "9u1megvhGBdA",
        "colab_type": "code",
        "colab": {
          "base_uri": "https://localhost:8080/",
          "height": 136
        },
        "outputId": "2e44fcc4-eb37-442b-fbee-00eff4e85bbd"
      },
      "cell_type": "code",
      "source": [
        "np.zeros([2,3,3])"
      ],
      "execution_count": 65,
      "outputs": [
        {
          "output_type": "execute_result",
          "data": {
            "text/plain": [
              "array([[[0., 0., 0.],\n",
              "        [0., 0., 0.],\n",
              "        [0., 0., 0.]],\n",
              "\n",
              "       [[0., 0., 0.],\n",
              "        [0., 0., 0.],\n",
              "        [0., 0., 0.]]])"
            ]
          },
          "metadata": {
            "tags": []
          },
          "execution_count": 65
        }
      ]
    },
    {
      "metadata": {
        "id": "bBbRafPQHJWg",
        "colab_type": "code",
        "colab": {}
      },
      "cell_type": "code",
      "source": [
        ""
      ],
      "execution_count": 0,
      "outputs": []
    }
  ]
}